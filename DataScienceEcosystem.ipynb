{
 "cells": [
  {
   "cell_type": "markdown",
   "id": "a26c066d-c813-49ef-a2b8-6b11e354ea79",
   "metadata": {},
   "source": [
    "# Data Science Tools and Ecosystem"
   ]
  },
  {
   "cell_type": "markdown",
   "id": "2efcc14d-5663-4320-a46b-0cded4fc1523",
   "metadata": {},
   "source": [
    "In this notebook, Data Science Tools and Ecosystem are summarized."
   ]
  },
  {
   "cell_type": "markdown",
   "id": "139ac552-d2e8-4287-97b4-fe16101b92cf",
   "metadata": {},
   "source": [
    "Some of the popular languages that Data Scientist use are:\n",
    "1. Python\n",
    "2. R\n",
    "3. SQL"
   ]
  },
  {
   "cell_type": "markdown",
   "id": "8a581b8a-79ed-4cb4-838e-efa6c6f68c46",
   "metadata": {},
   "source": [
    "Some of the commonly used libraries used by Data Scientist include:\n",
    "1. Numpy\n",
    "2. Pandas\n",
    "3. TensorFlow"
   ]
  },
  {
   "cell_type": "markdown",
   "id": "ee17296a-76af-42ee-9bcc-7178c1e2ee32",
   "metadata": {},
   "source": [
    "| Data Science Tools |\n",
    "|--------------------|\n",
    "| Jupyter Notebooks  |\n",
    "| RStudio            |\n",
    "| Apache Zeppelin    |"
   ]
  },
  {
   "cell_type": "markdown",
   "id": "2ea37502-f8c5-4f22-ad56-96bab42eca03",
   "metadata": {},
   "source": [
    "### Below are a few examples of evaluating arithmetic expressions in Python"
   ]
  },
  {
   "cell_type": "code",
   "execution_count": 2,
   "id": "4487d8b1-d9ee-4752-bd5c-d8cb44bd1086",
   "metadata": {},
   "outputs": [
    {
     "data": {
      "text/plain": [
       "17"
      ]
     },
     "execution_count": 2,
     "metadata": {},
     "output_type": "execute_result"
    }
   ],
   "source": [
    "(3*4)+5\n",
    "# This is a simple arithmetic expression to multipy then add integeres"
   ]
  },
  {
   "cell_type": "code",
   "execution_count": 6,
   "id": "19f12f80-eb06-4cf5-a25b-620c8deb35c9",
   "metadata": {},
   "outputs": [
    {
     "name": "stdout",
     "output_type": "stream",
     "text": [
      "Minutes: 200\n",
      "Hours: 3.33\n"
     ]
    }
   ],
   "source": [
    "# This will convrt 200 minutes to hours by dividing by 60\n",
    "min=200\n",
    "hours=200/60\n",
    "print(\"Minutes:\",min)\n",
    "print(\"Hours:\",round(hours,2))"
   ]
  },
  {
   "cell_type": "markdown",
   "id": "e415fe7c-01be-4be4-a586-f3673eb06470",
   "metadata": {},
   "source": [
    "Objectives:\n",
    "+ Python\n",
    "+ R\n",
    "+ SQL"
   ]
  },
  {
   "cell_type": "markdown",
   "id": "a2b43753-2b41-4605-b2fc-2cdda091a5da",
   "metadata": {},
   "source": [
    "## Author\n",
    "Andrés De la Peña Corró"
   ]
  }
 ],
 "metadata": {
  "kernelspec": {
   "display_name": "Python 3 (ipykernel)",
   "language": "python",
   "name": "python3"
  },
  "language_info": {
   "codemirror_mode": {
    "name": "ipython",
    "version": 3
   },
   "file_extension": ".py",
   "mimetype": "text/x-python",
   "name": "python",
   "nbconvert_exporter": "python",
   "pygments_lexer": "ipython3",
   "version": "3.12.4"
  }
 },
 "nbformat": 4,
 "nbformat_minor": 5
}
